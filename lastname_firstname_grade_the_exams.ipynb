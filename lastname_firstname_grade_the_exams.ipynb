{
 "cells": [
  {
   "cell_type": "code",
   "execution_count": 26,
   "id": "8004a893",
   "metadata": {},
   "outputs": [],
   "source": [
    "import numpy as np\n",
    "import pandas as pd\n",
    "import re\n",
    "import statistics"
   ]
  },
  {
   "cell_type": "code",
   "execution_count": 27,
   "id": "6d5fdfd6",
   "metadata": {},
   "outputs": [],
   "source": [
    "class Student():\n",
    "    def __init__(self, id, mark):\n",
    "        self.id = id\n",
    "        self.mark = mark"
   ]
  },
  {
   "cell_type": "code",
   "execution_count": 28,
   "id": "44819cd6",
   "metadata": {},
   "outputs": [],
   "source": [
    "class FileInput():\n",
    "    answer_key = \"B,A,D,D,C,B,D,A,C,C,D,B,A,B,A,C,B,D,A,C,A,A,B,D,D\"\n",
    "    valid_answer_list = [\"A\", \"B\", \"C\", \"D\", \"\"]\n",
    "    valid_answer_number = 0\n",
    "    answer_key_list = []\n",
    "    \n",
    "    def __init__(self, fileName):\n",
    "        self.answer_key_list = self.answer_key.split(\",\")\n",
    "        self.valid_answer_number = len(self.answer_key_list)\n",
    "        self.fileName = fileName   \n",
    "    \n",
    "#     Requirement 2: Validate\n",
    "    def countNumberOfLines(self):\n",
    "        with open(self.fileName,\"r\") as File:\n",
    "            line_count = 0\n",
    "            valid_line_count = 0\n",
    "            in_valid_line_count = 0\n",
    "            for line in File:\n",
    "                if line != \"\\n\":\n",
    "                    line_count += 1\n",
    "                if self.checkValidLine(line):\n",
    "                    valid_line_count += 1\n",
    "                else:\n",
    "                    in_valid_line_count += 1\n",
    "            print(\"Number of line: \" + str(line_count))\n",
    "            print(\"Number of valid line: \" + str(valid_line_count))\n",
    "            print(\"Number of in-valid line: \" + str(in_valid_line_count))\n",
    "\n",
    "    def checkValidLine(self, line):\n",
    "        line_item_list = line.split(\",\")\n",
    "        line_answer_list = line_item_list[1:]\n",
    "        id_item = line_item_list[0]\n",
    "        if self.checkValidAnswer(line_answer_list) and self.checkValidId(id_item):\n",
    "            return True\n",
    "        return False\n",
    "              \n",
    "    def checkValidAnswer(self, line_answer_list): \n",
    "        line_item_list_count = len(line_answer_list)\n",
    "        if line_item_list_count != self.valid_answer_number:\n",
    "            print(\"Not valid number of answers\")\n",
    "            return False\n",
    "        for i in range(0, line_item_list_count - 1):\n",
    "            if line_answer_list[i] not in self.valid_answer_list:\n",
    "                print(\"Not valid answer\")\n",
    "                return False\n",
    "        return True\n",
    "    \n",
    "    def checkValidId(self, id_value):\n",
    "        valid_id_pattern = re.compile(\"^N*[0-9]{8}$\")\n",
    "        if not valid_id_pattern.match(id_value):\n",
    "            print(\"Not valid user id\")\n",
    "        return bool(valid_id_pattern.match(id_value))\n",
    "    \n",
    "#     Requirement 3: Mark\n",
    "    def markAllClass(self): \n",
    "         with open(self.fileName,\"r\") as File:\n",
    "            all_students = []\n",
    "            for line in File:\n",
    "                all_students.append(self.markLine(line))\n",
    "            return all_students\n",
    "        \n",
    "    def markLine(self, line):\n",
    "        line_item_list = line.split(\",\")\n",
    "        line_answer_list = line_item_list[1:]\n",
    "        id_item = line_item_list[0]\n",
    "        student = Student(id_item, self.mark(line_answer_list))\n",
    "        return student\n",
    "        \n",
    "    def mark(self, line_answer_list):\n",
    "        mark = 0\n",
    "        for i in range(0, self.valid_answer_number - 1):\n",
    "            if line_answer_list[i] == self.answer_key_list[i]:\n",
    "                mark += 4\n",
    "            elif line_answer_list[i] == \"\":\n",
    "                mark += 0\n",
    "            else: \n",
    "                mark -=1\n",
    "        return mark"
   ]
  },
  {
   "cell_type": "code",
   "execution_count": 29,
   "id": "4e890d45",
   "metadata": {},
   "outputs": [],
   "source": [
    "class Statistics():\n",
    "    marks = []\n",
    "    \n",
    "    def __init__(self, all_students):\n",
    "        self.students = all_students\n",
    "        for student in all_students:\n",
    "            self.marks.append(student.mark)\n",
    "        \n",
    "    def printAllStudentInfo(self):\n",
    "        for student in self.students:\n",
    "            print(student.id.ljust(10) + str(student.mark))\n",
    "    \n",
    "    def calculateMean(self):\n",
    "        return statistics.mean(self.marks)\n",
    "    \n",
    "    def calculateMax(self):\n",
    "        return np.max(self.marks)\n",
    "    \n",
    "    def calculateMin(self):\n",
    "        return np.min(self.marks)\n",
    "    \n",
    "    def calculateRange(self):\n",
    "        return np.max(self.marks) - np.min(self.marks)\n",
    "    \n",
    "    def calculateMedian(self):\n",
    "        return statistics.median(self.marks)\n",
    "    \n",
    "    def createResultFile(self, filePosition):\n",
    "        with open(filePosition,\"w+\") as File:\n",
    "            resultValue = \"\"\n",
    "            for student in self.students:\n",
    "                resultValue += student.id.ljust(10) + str(student.mark) + \"\\n\"\n",
    "            File.write(resultValue)"
   ]
  },
  {
   "cell_type": "code",
   "execution_count": 30,
   "id": "fec55320",
   "metadata": {},
   "outputs": [
    {
     "name": "stdout",
     "output_type": "stream",
     "text": [
      "Enter a file name: class1\n",
      "Found file name\n",
      "N00000001,A,A,D,D,C,D,D,A,,C,D,B,C,,B,C,B,D,A,C,,A,,C,D\n",
      "N00000002,,A,,D,,B,D,A,C,C,D,,A,A,A,C,B,D,C,C,A,A,B,,D\n",
      "N00000003,B,A,,D,C,B,D,A,C,C,,B,A,B,A,C,B,D,A,,A,,B,D,D\n",
      "N00000004,B,B,D,,,B,D,A,C,C,D,B,A,B,A,C,B,D,,C,A,D,B,C,D\n",
      "N00000005,B,A,,D,,B,D,A,C,C,D,B,A,B,A,C,B,D,D,C,A,A,,D,D\n",
      "N00000006,B,A,D,A,C,B,D,A,C,C,C,B,A,D,A,C,,C,A,C,A,C,B,D,A\n",
      "N00000007,B,A,D,D,C,B,D,A,C,,D,B,A,B,A,C,B,D,,C,A,A,B,D,\n",
      "N00000008,A,A,D,D,C,,D,A,C,C,B,C,A,B,A,A,B,D,A,C,A,,B,B,D\n",
      "N00000009,B,A,,D,C,B,D,A,C,A,D,B,A,B,A,A,B,D,A,C,A,A,B,D,D\n",
      "N00000010,,A,D,B,C,B,D,A,C,C,D,B,A,B,A,C,B,D,A,D,,,B,D,B\n",
      "N00000011,B,A,D,,C,B,D,A,C,D,D,B,A,B,A,C,B,D,A,C,A,B,B,D,D\n",
      "N00000012,B,,D,D,C,B,D,A,C,C,D,B,A,B,A,A,B,D,A,,A,A,A,,C\n",
      "N00000013,,A,D,,B,B,,A,C,A,D,B,A,B,D,C,B,D,A,C,A,A,B,D,D\n",
      "N00000014,B,B,D,D,C,B,,D,C,C,D,B,A,B,A,C,,D,A,C,A,A,,D,D\n",
      "N00000015,A,C,C,D,C,B,,A,C,C,D,B,A,B,A,C,B,D,A,C,A,B,,D,D\n",
      "N00000016,B,A,C,D,,B,D,A,C,C,D,B,A,B,A,C,B,D,A,C,A,A,B,D,D\n",
      "N00000017,B,A,D,D,C,B,C,A,D,C,D,A,A,D,A,C,B,D,D,B,,A,B,D,D\n",
      "N00000018,B,A,D,A,C,B,D,A,C,C,D,B,A,B,,,B,D,A,B,A,A,B,,D\n",
      "N00000019,B,A,D,D,C,B,D,C,C,C,,B,,B,D,C,B,D,A,,A,A,B,D,D\n",
      "N00000020,B,,D,D,C,B,D,A,C,B,,,A,C,A,D,B,D,B,C,A,A,B,D,D\n"
     ]
    }
   ],
   "source": [
    "#     Requirement 1: Read and check\n",
    "name = \"\"\n",
    "fileInputUrl = \"\"\n",
    "\n",
    "def inputFileName():\n",
    "    name = input(\"Enter a file name: \")\n",
    "    global fileInputUrl\n",
    "    fileInputUrl = \"Data Files/\" + name + \".txt\"\n",
    "    \n",
    "inputFileName()\n",
    "\n",
    "while True:\n",
    "    try:\n",
    "        print(\"Found file name\")\n",
    "        with open(fileInputUrl,\"r\") as File:\n",
    "            file_stuff = File.read()\n",
    "            print(file_stuff)\n",
    "            fileInput = FileInput(\"Data Files/class1.txt\")\n",
    "        break\n",
    "    except:\n",
    "        print(\"Cannot find file name\")\n",
    "        inputFileName()"
   ]
  },
  {
   "cell_type": "code",
   "execution_count": 31,
   "id": "4f5d3af9",
   "metadata": {},
   "outputs": [
    {
     "name": "stdout",
     "output_type": "stream",
     "text": [
      "Number of line: 20\n",
      "Number of valid line: 20\n",
      "Number of in-valid line: 0\n"
     ]
    }
   ],
   "source": [
    "#     Requirement 2: Validate\n",
    "fileInput.countNumberOfLines()"
   ]
  },
  {
   "cell_type": "code",
   "execution_count": 32,
   "id": "4cfce49e",
   "metadata": {},
   "outputs": [
    {
     "name": "stdout",
     "output_type": "stream",
     "text": [
      "N00000001 55\n",
      "N00000002 66\n",
      "N00000003 80\n",
      "N00000004 69\n",
      "N00000005 79\n",
      "N00000006 67\n",
      "N00000007 88\n",
      "N00000008 63\n",
      "N00000009 82\n",
      "N00000010 74\n",
      "N00000011 82\n",
      "N00000012 74\n",
      "N00000013 69\n",
      "N00000014 74\n",
      "N00000015 68\n",
      "N00000016 87\n",
      "N00000017 62\n",
      "N00000018 74\n",
      "N00000019 74\n",
      "N00000020 64\n"
     ]
    }
   ],
   "source": [
    "#     Requirement 3: Statistics\n",
    "statisticItem = Statistics(fileInput.markAllClass())\n",
    "statisticItem.printAllStudentInfo()"
   ]
  },
  {
   "cell_type": "code",
   "execution_count": 33,
   "id": "45935852",
   "metadata": {},
   "outputs": [
    {
     "name": "stdout",
     "output_type": "stream",
     "text": [
      "Mean:72.55\n",
      "Max:88\n",
      "Min:55\n",
      "Range:33\n",
      "Median:74.0\n"
     ]
    }
   ],
   "source": [
    "print(\"Mean:\" + str(statisticItem.calculateMean()))\n",
    "print(\"Max:\" + str(statisticItem.calculateMax()))\n",
    "print(\"Min:\" + str(statisticItem.calculateMin()))\n",
    "print(\"Range:\" + str(statisticItem.calculateRange()))\n",
    "print(\"Median:\" + str(statisticItem.calculateMedian()))"
   ]
  },
  {
   "cell_type": "code",
   "execution_count": 34,
   "id": "902d9c91",
   "metadata": {},
   "outputs": [
    {
     "name": "stdout",
     "output_type": "stream",
     "text": [
      "N00000001 55\n",
      "N00000002 66\n",
      "N00000003 80\n",
      "N00000004 69\n",
      "N00000005 79\n",
      "N00000006 67\n",
      "N00000007 88\n",
      "N00000008 63\n",
      "N00000009 82\n",
      "N00000010 74\n",
      "N00000011 82\n",
      "N00000012 74\n",
      "N00000013 69\n",
      "N00000014 74\n",
      "N00000015 68\n",
      "N00000016 87\n",
      "N00000017 62\n",
      "N00000018 74\n",
      "N00000019 74\n",
      "N00000020 64\n",
      "\n"
     ]
    }
   ],
   "source": [
    "#     Requirement 4: Create the result\n",
    "filePosition = \"Results/class1_grades.txt\"\n",
    "statisticItem.createResultFile(filePosition)\n",
    "with open(filePosition,\"r\") as File:\n",
    "    file_stuff = File.read()\n",
    "    print(file_stuff)"
   ]
  },
  {
   "cell_type": "code",
   "execution_count": null,
   "id": "417c855b",
   "metadata": {},
   "outputs": [],
   "source": []
  }
 ],
 "metadata": {
  "kernelspec": {
   "display_name": "Python 3 (ipykernel)",
   "language": "python",
   "name": "python3"
  },
  "language_info": {
   "codemirror_mode": {
    "name": "ipython",
    "version": 3
   },
   "file_extension": ".py",
   "mimetype": "text/x-python",
   "name": "python",
   "nbconvert_exporter": "python",
   "pygments_lexer": "ipython3",
   "version": "3.9.7"
  }
 },
 "nbformat": 4,
 "nbformat_minor": 5
}
